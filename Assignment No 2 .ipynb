{
 "cells": [
  {
   "cell_type": "code",
   "execution_count": 1,
   "metadata": {},
   "outputs": [
    {
     "name": "stdout",
     "output_type": "stream",
     "text": [
      "Enter your English marks:\t56\n",
      "Enter your Urdu marks:\t65\n",
      "Enter your Pak.Std marks:\t78\n",
      "Enter your Chemistry marks:\t89\n",
      "Enter your Physics marks:\t59\n",
      "B Grade\n"
     ]
    }
   ],
   "source": [
    "# Marksheet / Grading program\n",
    "eng = int(input(\"Enter your English marks:\\t\"))\n",
    "urdu = int(input(\"Enter your Urdu marks:\\t\"))\n",
    "pst = int(input(\"Enter your Pak.Std marks:\\t\"))\n",
    "acc = int(input(\"Enter your Chemistry marks:\\t\"))\n",
    "stat = int(input(\"Enter your Physics marks:\\t\"))\n",
    "sum = eng + urdu + pst + acc + stat\n",
    "avg = sum/5\n",
    "avg\n",
    "if avg>=80 and avg<=100:\n",
    " print(\"A1 Grade\")\n",
    "elif avg>=70 and avg<80:\n",
    " print(\"A Grade\")\n",
    "elif avg>=60 and avg<70:\n",
    " print(\"B Grade\")\n",
    "elif avg>=50 and avg<60:\n",
    " print(\"C Grade\")\n",
    "else:\n",
    " print(\"Fail\")   "
   ]
  },
  {
   "cell_type": "code",
   "execution_count": 2,
   "metadata": {},
   "outputs": [
    {
     "name": "stdout",
     "output_type": "stream",
     "text": [
      "Enter your number\t8\n",
      "This is an even number\n"
     ]
    }
   ],
   "source": [
    "# odd / even number program\n",
    "num = int(input(\"Enter your number\\t\"))\n",
    "A = num % 2\n",
    "if A>0:\n",
    " print(\"This is an odd number\")\n",
    "else:\n",
    " print(\"This is an even number\")\n"
   ]
  },
  {
   "cell_type": "code",
   "execution_count": 4,
   "metadata": {},
   "outputs": [
    {
     "name": "stdout",
     "output_type": "stream",
     "text": [
      "The length of list is:  5\n"
     ]
    }
   ],
   "source": [
    "# len() program \n",
    "n = len([6,70, 60, 90,50]) \n",
    "print(\"The length of list is: \", n) "
   ]
  },
  {
   "cell_type": "code",
   "execution_count": 5,
   "metadata": {},
   "outputs": [
    {
     "name": "stdout",
     "output_type": "stream",
     "text": [
      "Sum of all elements in given list:  102\n"
     ]
    }
   ],
   "source": [
    "# program to find sum of elements in list \n",
    "total = 0\n",
    "list1 = [66, 5, 9, 7, 15] \n",
    "for ele in range(0, len(list1)): \n",
    " total = total + list1[ele] \n",
    "print(\"Sum of all elements in given list: \", total) \n"
   ]
  },
  {
   "cell_type": "code",
   "execution_count": 18,
   "metadata": {},
   "outputs": [
    {
     "name": "stdout",
     "output_type": "stream",
     "text": [
      "Largest element is: 88\n"
     ]
    }
   ],
   "source": [
    "# Python program to find largest \n",
    "\n",
    "list1 = [20, 50, 40, 88] \n",
    "\n",
    "\n",
    "\n",
    "print(\"Largest element is:\", max(list1)) \n"
   ]
  },
  {
   "cell_type": "code",
   "execution_count": 25,
   "metadata": {},
   "outputs": [
    {
     "name": "stdout",
     "output_type": "stream",
     "text": [
      "1\n",
      "1\n",
      "2\n",
      "3\n",
      "4\n"
     ]
    }
   ],
   "source": [
    "# program to print less than 5 numbers from a list\n",
    "a = [1, 1, 2, 3, 5, 8, 4, 21, 34, 55, 89]\n",
    "for i in a:\n",
    " \n",
    "   if i < 5:\n",
    "    print(i)"
   ]
  },
  {
   "cell_type": "code",
   "execution_count": null,
   "metadata": {},
   "outputs": [],
   "source": []
  }
 ],
 "metadata": {
  "kernelspec": {
   "display_name": "Python 3",
   "language": "python",
   "name": "python3"
  },
  "language_info": {
   "codemirror_mode": {
    "name": "ipython",
    "version": 3
   },
   "file_extension": ".py",
   "mimetype": "text/x-python",
   "name": "python",
   "nbconvert_exporter": "python",
   "pygments_lexer": "ipython3",
   "version": "3.7.4"
  }
 },
 "nbformat": 4,
 "nbformat_minor": 2
}
