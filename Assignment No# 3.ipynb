{
 "cells": [
  {
   "cell_type": "code",
   "execution_count": 6,
   "metadata": {},
   "outputs": [
    {
     "name": "stdout",
     "output_type": "stream",
     "text": [
      "Select your desired operation\n",
      "1.Add\n",
      "2.Sub\n",
      "3.Multiply\n",
      "4.Divide\n",
      "Enter Operation Number(1/2/3/4)\t1\n",
      "Enter Your 1st Value\t25\n",
      "Enter Your 2nd Value\t25\n",
      "25 + 25 = 50\n"
     ]
    }
   ],
   "source": [
    "def add(x, y):\n",
    " return x + y\n",
    "def sub(x, y):\n",
    " return x - y\n",
    "def multiply(x, y):\n",
    "  return x * y\n",
    "def divide(x, y):\n",
    " return x / y\n",
    "print(\"Select your desired operation\")\n",
    "print(\"1.Add\")\n",
    "print(\"2.Sub\")\n",
    "print(\"3.Multiply\")\n",
    "print(\"4.Divide\")\n",
    "choice = (input(\"Enter Operation Number(1/2/3/4)\\t\"))\n",
    "num1 = int(input(\"Enter Your 1st Value\\t\"))\n",
    "num2 = int(input(\"Enter Your 2nd Value\\t\"))\n",
    "if choice == '1':\n",
    " print(num1,\"+\",num2,\"=\", add(num1,num2))\n",
    "elif choice == '2':\n",
    " print(num1,\"-\",num2,\"=\", subtract(num1,num2))\n",
    "elif choice == '3': \n",
    " print(num1,\"*\",num2,\"=\", multiply(num1,num2))\n",
    "elif choice == '4':\n",
    " print(num1,\"/\",num2,\"=\", divide(num1,num2))\n",
    "else:\n",
    " print(\"Invalid input\")\n"
   ]
  },
  {
   "cell_type": "code",
   "execution_count": 11,
   "metadata": {},
   "outputs": [
    {
     "name": "stdout",
     "output_type": "stream",
     "text": [
      "Checking if 4 exists in list ( using loop ) : \n",
      "\n",
      "\tElement Exists\n",
      "\n",
      "Checking if 4 exists in list ( using in ) : \n",
      "\n",
      "\tElement Exists\n"
     ]
    }
   ],
   "source": [
    "test_list = [ 1, 6, 3, 5, 3, 4 ] \n",
    "print(\"Checking if 4 exists in list ( using loop ) : \") \n",
    "for i in test_list: \n",
    "    if(i == 4) : \n",
    "        print (\"\\n\\tElement Exists\") \n",
    "print(\"\\nChecking if 4 exists in list ( using in ) : \") \n",
    "if (4 in test_list): \n",
    "    print (\"\\n\\tElement Exists\") "
   ]
  },
  {
   "cell_type": "code",
   "execution_count": 12,
   "metadata": {},
   "outputs": [
    {
     "name": "stdout",
     "output_type": "stream",
     "text": [
      "{0: 100, 1: 220}\n",
      "{0: 100, 1: 220, 2: 340}\n"
     ]
    }
   ],
   "source": [
    "d = {0:100, 1:220}\n",
    "print(d)\n",
    "d.update({2:340})\n",
    "print(d)"
   ]
  },
  {
   "cell_type": "code",
   "execution_count": 14,
   "metadata": {},
   "outputs": [
    {
     "name": "stdout",
     "output_type": "stream",
     "text": [
      "Sum : 653\n"
     ]
    }
   ],
   "source": [
    "def returnSum(myDict): \n",
    "      \n",
    "    sum = 0\n",
    "    for i in myDict: \n",
    "        sum = sum + myDict[i] \n",
    "      \n",
    "    return sum\n",
    "  \n",
    "dict = {'a': 24, 'b':289, 'c':340} \n",
    "print(\"Sum :\", returnSum(dict))"
   ]
  },
  {
   "cell_type": "code",
   "execution_count": 15,
   "metadata": {},
   "outputs": [
    {
     "name": "stdout",
     "output_type": "stream",
     "text": [
      "[20, 30, -20, 60]\n"
     ]
    }
   ],
   "source": [
    "def Repeat(x): \n",
    "    _size = len(x) \n",
    "    repeated = [] \n",
    "    for i in range(_size): \n",
    "        k = i + 1\n",
    "        for j in range(k, _size): \n",
    "            if x[i] == x[j] and x[i] not in repeated: \n",
    "                repeated.append(x[i]) \n",
    "    return repeated \n",
    "   \n",
    "list1 = [10, 20, 30, 20, 20, 30, 40,  \n",
    "         50, -20, 60, 60, -20, -20] \n",
    "print (Repeat(list1)) "
   ]
  },
  {
   "cell_type": "code",
   "execution_count": 16,
   "metadata": {},
   "outputs": [
    {
     "name": "stdout",
     "output_type": "stream",
     "text": [
      "Present,  value = 200\n",
      "Not present\n"
     ]
    }
   ],
   "source": [
    "def checkKey(dict, key): \n",
    "    if key in dict.keys(): \n",
    "        print(\"Present, \", end =\" \") \n",
    "        print(\"value =\", dict[key]) \n",
    "    else: \n",
    "        print(\"Not present\") \n",
    "dict = {'a': 100, 'b':200, 'c':300} \n",
    "\n",
    "key = 'b'\n",
    "checkKey(dict, key) \n",
    "\n",
    "key = 'w'\n",
    "checkKey(dict, key) "
   ]
  },
  {
   "cell_type": "code",
   "execution_count": null,
   "metadata": {},
   "outputs": [],
   "source": []
  }
 ],
 "metadata": {
  "kernelspec": {
   "display_name": "Python 3",
   "language": "python",
   "name": "python3"
  },
  "language_info": {
   "codemirror_mode": {
    "name": "ipython",
    "version": 3
   },
   "file_extension": ".py",
   "mimetype": "text/x-python",
   "name": "python",
   "nbconvert_exporter": "python",
   "pygments_lexer": "ipython3",
   "version": "3.7.4"
  }
 },
 "nbformat": 4,
 "nbformat_minor": 2
}
