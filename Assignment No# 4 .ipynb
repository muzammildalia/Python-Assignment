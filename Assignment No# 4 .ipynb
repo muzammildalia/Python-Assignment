{
 "cells": [
  {
   "cell_type": "code",
   "execution_count": 1,
   "metadata": {},
   "outputs": [
    {
     "name": "stdout",
     "output_type": "stream",
     "text": [
      "{'first_name': 'Muzammil ', 'last_name': 'Dalia', 'age': 20, 'city': 'Karachi'}\n",
      "{'first_name': 'Muzammil ', 'last_name': 'Dalia', 'age': 20, 'city': 'Karachi', 'Qualification': 'BS in Computer Engineering from SSUET'}\n",
      "{'first_name': 'Muzammil ', 'last_name': 'Dalia', 'age': 20, 'city': 'Karachi'}\n"
     ]
    }
   ],
   "source": [
    "data = {\"first_name\":\"Muzammil \",\"last_name\":\"Dalia\",\"age\":20,\"city\":\"Karachi\"}\n",
    "print(data)\n",
    "data[\"Qualification\"] = \"BS in Computer Engineering from SSUET\"\n",
    "print(data)\n",
    "del data[\"Qualification\"]\n",
    "print(data)"
   ]
  },
  {
   "cell_type": "code",
   "execution_count": 2,
   "metadata": {},
   "outputs": [
    {
     "name": "stdout",
     "output_type": "stream",
     "text": [
      "karachi {'country': 'Pakistan', 'Population': '14.91 Million', 'fact': 'centre of all civilazations'}\n",
      "melbourne {'country': 'Australia', 'Population': '4.936 million', 'fact': '4 times bigger than karachi'}\n",
      "london {'country': 'UK', 'Population': '8.9 million', 'fact': 'ancient british and beautiful city'}\n"
     ]
    }
   ],
   "source": [
    "city = {\"karachi\":{\"country\":\"Pakistan\",\"Population\":\"14.91 Million\",\"fact\":\"centre of all civilazations\"},\n",
    "        \"melbourne\":{\"country\":\"Australia\",\"Population\":\"4.936 million\",'fact':\"4 times bigger than karachi\"},\n",
    "       \"london\":{\"country\":\"UK\",\"Population\":\"8.9 million\",\"fact\":\"ancient british and beautiful city\"}}\n",
    "for k,v in city.items():\n",
    "    print(k,v)"
   ]
  },
  {
   "cell_type": "code",
   "execution_count": 3,
   "metadata": {},
   "outputs": [
    {
     "name": "stdout",
     "output_type": "stream",
     "text": [
      "what is your age20\n",
      "your ticket is $15\n"
     ]
    }
   ],
   "source": [
    "for a in range(3):\n",
    "    age = int(input(\"what is your age\"))\n",
    "    if age <=3:\n",
    "        print(\"your ticket is free\")\n",
    "        break\n",
    "    if age >3 and age <=12:\n",
    "        print(\"your ticket is $10\")\n",
    "        break\n",
    "    if age > 12:\n",
    "        print(\"your ticket is $15\")\n",
    "        break"
   ]
  },
  {
   "cell_type": "code",
   "execution_count": 4,
   "metadata": {},
   "outputs": [
    {
     "data": {
      "text/plain": [
       "('one of my favourite book is', 'Alice in Wonderland')"
      ]
     },
     "execution_count": 4,
     "metadata": {},
     "output_type": "execute_result"
    }
   ],
   "source": [
    "def favourite_book(title):\n",
    "        return \"one of my favourite book is\",title\n",
    "favourite_book('Alice in Wonderland')"
   ]
  },
  {
   "cell_type": "code",
   "execution_count": 5,
   "metadata": {},
   "outputs": [
    {
     "name": "stdout",
     "output_type": "stream",
     "text": [
      "=============HINT=============\n",
      "try a number between 20 and 30\n",
      "enter your guess: 20\n",
      "your guess is wrong\n",
      "============better luck next time :-)============\n",
      "enter your guess: 25\n",
      "your guess is wrong\n",
      "============better luck next time :-)============\n",
      "enter your guess: 30\n",
      "your guess is wrong\n",
      "============better luck next time :-)============\n"
     ]
    }
   ],
   "source": [
    "import random\n",
    "a=random.randint(1,30) \n",
    "print(\"=============HINT=============\")\n",
    "if a>= 1 and a < 10:\n",
    "    print(\"try a number between 1 and 10\")\n",
    "elif a >= 10 and a < 20:\n",
    "    print(\"try a number between 10 and 20\")\n",
    "elif a >= 20 and a < 30:\n",
    "    print(\"try a number between 20 and 30\")\n",
    "for i in range(0,3):\n",
    "    user = int(input(\"enter your guess: \"))\n",
    "    if user < 1 or user > 30:\n",
    "        print(\"choose a number between 1 and 30\")\n",
    "    else:\n",
    "        if user == a:\n",
    "            print(\"your guess is right\")\n",
    "            break\n",
    "        else:\n",
    "            print(\"your guess is wrong\")\n",
    "            print(\"============better luck next time :-)============\")"
   ]
  }
 ],
 "metadata": {
  "kernelspec": {
   "display_name": "Python 3",
   "language": "python",
   "name": "python3"
  },
  "language_info": {
   "codemirror_mode": {
    "name": "ipython",
    "version": 3
   },
   "file_extension": ".py",
   "mimetype": "text/x-python",
   "name": "python",
   "nbconvert_exporter": "python",
   "pygments_lexer": "ipython3",
   "version": "3.7.4"
  }
 },
 "nbformat": 4,
 "nbformat_minor": 2
}
